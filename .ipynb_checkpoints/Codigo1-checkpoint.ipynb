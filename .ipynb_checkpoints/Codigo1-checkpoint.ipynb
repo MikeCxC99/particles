{
 "cells": [
  {
   "cell_type": "code",
   "execution_count": 2,
   "id": "a02e0e6c-6578-4362-8edd-6d1df21a52c8",
   "metadata": {},
   "outputs": [
    {
     "ename": "SyntaxError",
     "evalue": "invalid syntax (2880671803.py, line 16)",
     "output_type": "error",
     "traceback": [
      "\u001b[0;36m  Cell \u001b[0;32mIn[2], line 16\u001b[0;36m\u001b[0m\n\u001b[0;31m    return (np.sqrt(np.pi)/(2*(a)))* O *(Ap* (1-x)-x)np.exp(-(((1-x)2)/(B2))(1+(B/2)(((Ap(1-x))-x)/((1-x)*3)))/(((1+d)/(1-x))+((4*n)/(1-4*x))))((x*2)(((1+d)/(1-x))+((4*n)/(1-(4*x)))))**(-1)\u001b[0m\n\u001b[0m                                                     ^\u001b[0m\n\u001b[0;31mSyntaxError\u001b[0m\u001b[0;31m:\u001b[0m invalid syntax\n"
     ]
    }
   ],
   "source": [
    "import numpy as np\n",
    "import matplotlib.pyplot as plt\n",
    "from mpl_toolkits.mplot3d import Axes3D\n",
    "#Constante\n",
    "#x=2\n",
    "#Ap=0.8\n",
    "#Variables\n",
    "#Hacer 2 casos, uno para Beta<<1 y otro para Beta>>1\n",
    "#En este caso Beta_IIp es menor que 1 (no me acuerdo si era simplemente un numero menor que 1 o todos los numeros menores que 1)\n",
    "def S(Ap, x):\n",
    "    a = 1 \n",
    "    O =1\n",
    "    d=10\n",
    "    n=0.5\n",
    "    B=0.1\n",
    "    return (np.sqrt(np.pi)/(2*(a)))* O *(Ap* (1-x)-x)np.exp(-(((1-x)2)/(B2))(1+(B/2)(((Ap(1-x))-x)/((1-x)*3)))/(((1+d)/(1-x))+((4*n)/(1-4*x))))((x*2)(((1+d)/(1-x))+((4*n)/(1-(4*x)))))**(-1)\n",
    "\n",
    "Ap_values = np.linspace(0.1, 3, 25)\n",
    "x_values = (np.linspace(0.1, 0.25, 12), np.linspace(0.25, 0.99, 12))\n",
    "\n",
    "Ap, x = np.meshgrid(Ap_values, x_values)\n",
    "\n",
    "S_values = S(Ap, x)\n",
    "\n",
    "# Graficar\n",
    "fig = plt.figure(figsize=(24, 18))\n",
    "ax = fig.add_subplot(111, projection='3d')\n",
    "\n",
    "# Graficar la superficie\n",
    "#ax.scatter(Tp, Tr, fk_values, cmap='viridis')\n",
    "ax.plot_surface(Ap, x, S_values, cmap='cool', alpha=1)\n",
    "\n",
    "\n",
    "#ax.contour3D(Tp, Tr, fk_values,c=fk_values)\n",
    "# Configuración del gráfico\n",
    "ax.set_title('Gráfico 3D de S')\n",
    "ax.set_xlabel('Ap')\n",
    "ax.set_ylabel('x')\n",
    "ax.set_zlabel('S')\n",
    "#ax.contourf(Ap, x, S(Ap, x), zdir='z', offset=-0.05, cmap='coolwarm')\n",
    "ax.contourf(Ap, x, S(Ap, x), zdir='x', offset=-1, cmap='coolwarm')\n",
    "ax.contourf(Ap, x, S(Ap, x), zdir='y', offset=1, cmap='coolwarm')\n",
    "\n",
    "#ax.set(xlim=(-200,200), ylim=(-200,200), zlim=(0,10), xlabel='X', ylabel='Y', zlabel='Z')\n",
    "\n",
    "plt.show()"
   ]
  },
  {
   "cell_type": "code",
   "execution_count": null,
   "id": "8ece0961-ee10-4f98-ae4f-21c6d32725be",
   "metadata": {},
   "outputs": [],
   "source": []
  }
 ],
 "metadata": {
  "kernelspec": {
   "display_name": "Python 3 (ipykernel)",
   "language": "python",
   "name": "python3"
  },
  "language_info": {
   "codemirror_mode": {
    "name": "ipython",
    "version": 3
   },
   "file_extension": ".py",
   "mimetype": "text/x-python",
   "name": "python",
   "nbconvert_exporter": "python",
   "pygments_lexer": "ipython3",
   "version": "3.11.9"
  }
 },
 "nbformat": 4,
 "nbformat_minor": 5
}

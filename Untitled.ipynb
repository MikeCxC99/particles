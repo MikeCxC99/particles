{
 "cells": [
  {
   "cell_type": "code",
   "execution_count": null,
   "id": "7c30b0c2-c9ab-42a0-bdb6-69001b87ced7",
   "metadata": {},
   "outputs": [],
   "source": [
    "import math\n",
    "import numpy as np\n",
    "import matplotlib.pyplot as plt\n",
    "from mpl_toolkits.mplot3d import Axes3D\n",
    "Ap=0.8\n",
    "#Hacer 2 casos, uno para Beta<<1 y otro para Beta>>1\n",
    "#En este caso Beta_IIp es menor que 1 (no me acuerdo si era simplemente un numero menor que 1 o \n",
    "d=10\n",
    "n=0.5\n",
    "B=0.1\n",
    "#x = (np.linspace(0.1, 0.99, 300 ))\n",
    "xa = (np.linspace(0.1, 0.250, 300 ))\n",
    "xb = (np.linspace(0.251, 0.711, 300 ))\n",
    "xc = (np.linspace(0.712, 0.99, 300))\n",
    "#xf = (xa + xb + xc)\n",
    "#mask = np.logical_not((x == 0.25) | (x == 1) | (x==0) | (x==0.71) )\n",
    "#filtered_x = x[mask]\n",
    "#S=((((1+d)/(1-x))+((4*n)/(1-4*x))))/(1+(B/(2*(1-x)*2))(Ap-(x/(1-x))))\n",
    "Sa=((((1+d)/(1-xa))+((4*n)/(1-4*xa))))/(1+(B/(2*(1-xa)*2))(Ap-(xa/(1-xa))))\n",
    "Sb=((((1+d)/(1-xb))+((4*n)/(1-4*xb))))/(1+(B/(2*(1-xb)*2))(Ap-(xb/(1-xb))))\n",
    "Sc=((((1+d)/(1-xc))+((4*n)/(1-4*xc))))/(1+(B/(2*(1-xc)*2))(Ap-(xc/(1-xc))))\n",
    "#Sf =(Sa + Sb + Sc)\n",
    "x1=0.25\n",
    "x2=1\n",
    "x3=0\n",
    "x4=0.711\n",
    "#plt.plot(xf,Sf)\n",
    "plt.plot(xa,Sa)\n",
    "plt.plot(xb,Sb)\n",
    "plt.plot(xc,Sc)\n",
    "plt.xlabel(\"x (0,1 - 0,99)\")\n",
    "plt.ylabel(\"S\")\n",
    "plt.title(\"Grafico de x vs S\")\n",
    "plt.axvline(x1, color='blue', linestyle='--')\n",
    "plt.axvline(x2, color='orange', linestyle='--')\n",
    "plt.axvline(x3, color='orange', linestyle='--')\n",
    "plt.axvline(x4, color='blue', linestyle='--')\n",
    "figure, axis = plt.subplots(1, 2)\n",
    "ax.set_zlim(-100, 100)\n",
    "#axis[0].plot(x_values, S_values)\n",
    "#axis[0].set_title(\"x vs S\")\n",
    "\n",
    "#axis[1].plot(Ap_values, S_values)\n",
    "#axis[1].set_title(\"Ap vs S\")\n",
    "\n",
    "plt.show()"
   ]
  }
 ],
 "metadata": {
  "kernelspec": {
   "display_name": "Python 3 (ipykernel)",
   "language": "python",
   "name": "python3"
  },
  "language_info": {
   "codemirror_mode": {
    "name": "ipython",
    "version": 3
   },
   "file_extension": ".py",
   "mimetype": "text/x-python",
   "name": "python",
   "nbconvert_exporter": "python",
   "pygments_lexer": "ipython3",
   "version": "3.11.9"
  }
 },
 "nbformat": 4,
 "nbformat_minor": 5
}

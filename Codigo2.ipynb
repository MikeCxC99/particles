{
 "cells": [
  {
   "cell_type": "code",
   "execution_count": 1,
   "id": "a67873c1-5736-41f8-81cf-df3a60a15976",
   "metadata": {},
   "outputs": [
    {
     "ename": "SyntaxError",
     "evalue": "invalid syntax (150640312.py, line 17)",
     "output_type": "error",
     "traceback": [
      "\u001b[0;36m  Cell \u001b[0;32mIn[1], line 17\u001b[0;36m\u001b[0m\n\u001b[0;31m    return (np.sqrt(np.pi)/(2*(a)))* O (Ap(1-x)-x)np.exp(-(((1-x)2)/(B2))(1+(B/2)(((Ap(1-x))-x)/((1-x)*3)))/(((1+d)/(1-x))+((4*n)/(1-4*x))))((x*2)(((1+d)/(1-x))+((4*n)/(1-(4*x)))))**(-1)\u001b[0m\n\u001b[0m                                                  ^\u001b[0m\n\u001b[0;31mSyntaxError\u001b[0m\u001b[0;31m:\u001b[0m invalid syntax\n"
     ]
    }
   ],
   "source": [
    "import math\n",
    "import numpy as np\n",
    "import matplotlib.pyplot as plt\n",
    "from mpl_toolkits.mplot3d import Axes3D\n",
    "#Constante\n",
    "#x=2\n",
    "#Ap=0.8\n",
    "#Variables\n",
    "#Hacer 2 casos, uno para Beta<<1 y otro para Beta>>1\n",
    "#En este caso Beta_IIp es menor que 1 (no me acuerdo si era simplemente un numero menor que 1 o todos los numeros menores que 1)\n",
    "def S(Ap, x):\n",
    "    a = 1 \n",
    "    O =1\n",
    "    d=10\n",
    "    n=0.5\n",
    "    B=0.1\n",
    "    return (np.sqrt(np.pi)/(2*(a)))* O (Ap(1-x)-x)np.exp(-(((1-x)2)/(B2))(1+(B/2)(((Ap(1-x))-x)/((1-x)*3)))/(((1+d)/(1-x))+((4*n)/(1-4*x))))((x*2)(((1+d)/(1-x))+((4*n)/(1-(4*x)))))**(-1)\n",
    "\n",
    "Ap_values = np.linspace(0.1, 3, 25)\n",
    "x_values = np.linspace(0.1, 0.99, 25)\n",
    "\n",
    "S_values = S(Ap_values, x_values)\n",
    "\n",
    "plt.plot(x_values, S_values)\n",
    "plt.xlabel(\"x (0,1 - 0,99)\")\n",
    "plt.ylabel(\"S\")\n",
    "plt.title(\"Grafico de x vs S\")\n",
    "\n",
    "#figure, axis = plt.subplots(1, 2)\n",
    "\n",
    "#axis[0].plot(x_values, S_values)\n",
    "#axis[0].set_title(\"x vs S\")\n",
    "\n",
    "#axis[1].plot(Ap_values, S_values)\n",
    "#axis[1].set_title(\"Ap vs S\")\n",
    "\n",
    "plt.show()"
   ]
  },
  {
   "cell_type": "code",
   "execution_count": null,
   "id": "2ac90eaf-bf81-4ad9-975f-ce9bdb28f154",
   "metadata": {},
   "outputs": [],
   "source": []
  }
 ],
 "metadata": {
  "kernelspec": {
   "display_name": "Python 3 (ipykernel)",
   "language": "python",
   "name": "python3"
  },
  "language_info": {
   "codemirror_mode": {
    "name": "ipython",
    "version": 3
   },
   "file_extension": ".py",
   "mimetype": "text/x-python",
   "name": "python",
   "nbconvert_exporter": "python",
   "pygments_lexer": "ipython3",
   "version": "3.11.9"
  }
 },
 "nbformat": 4,
 "nbformat_minor": 5
}
